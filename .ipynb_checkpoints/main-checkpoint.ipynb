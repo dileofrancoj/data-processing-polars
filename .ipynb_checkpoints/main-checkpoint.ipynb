{
 "cells": [
  {
   "cell_type": "markdown",
   "id": "458a288b",
   "metadata": {},
   "source": [
    "### Dependencias a instalar\n",
    "\n",
    "\n",
    "```\n",
    "!pip install polars\n",
    "!pip install pyarrow\n",
    "!pip3 install pyarrow\n",
    "\n",
    "```"
   ]
  },
  {
   "cell_type": "code",
   "execution_count": 5,
   "id": "3b3977e2",
   "metadata": {},
   "outputs": [],
   "source": [
    "import polars as pl\n",
    "import time\n",
    "import os"
   ]
  },
  {
   "cell_type": "markdown",
   "id": "3342b7b5",
   "metadata": {},
   "source": [
    "### Project config constraints"
   ]
  },
  {
   "cell_type": "code",
   "execution_count": 22,
   "id": "1e3ff6d6",
   "metadata": {},
   "outputs": [],
   "source": [
    "file_csv_delimiter = \",\"\n",
    "grouped_by = \"Date\"\n",
    "unique_grouped_features = [\"year\", \"month\"]\n",
    "output_prefix = \"test\"\n",
    "fileName = './demo_records.csv'"
   ]
  },
  {
   "cell_type": "markdown",
   "id": "6a7e8d5a",
   "metadata": {},
   "source": [
    "### Main Project Functions"
   ]
  },
  {
   "cell_type": "code",
   "execution_count": 23,
   "id": "d9818287",
   "metadata": {},
   "outputs": [],
   "source": [
    "def load_csv_file(path):\n",
    "    try:\n",
    "        df = pl.read_csv(path, separator=file_csv_delimiter)\n",
    "        return df\n",
    "    except FileNotFoundError:\n",
    "        raise FileNotFoundError(f\"File not found: {path}\")\n",
    "    except pl.exceptions.ComputeError as e:\n",
    "        raise ValueError(f\"Error processing file: {path}. Details: {str(e)}\")\n",
    "    except Exception as e:\n",
    "        raise Exception(f\"An unexpected error occurred while loading the file: {path}. Details: {str(e)}\")\n",
    "\n",
    "def get_file_info(path):\n",
    "    file_size = os.path.getsize(path)\n",
    "    \n",
    "    size_in_kb = file_size / 1024\n",
    "    size_in_mb = size_in_kb / 1024\n",
    "    size_in_gb = size_in_mb / 1024\n",
    "    print(f\"Tamaño del archivo: {size_in_gb:.2f} GB\")\n",
    "\n",
    "\n",
    "def add_constraints(df):\n",
    "    df = df.with_columns([pl.col('Date').str.strptime(pl.Date, format=\"%Y-%m-%d\")])\n",
    "\n",
    "    df = df.with_columns([\n",
    "        df[grouped_by].dt.year().alias(\"year\"),\n",
    "        df[grouped_by].dt.month().alias(\"month\")\n",
    "    ])\n",
    "    return df\n",
    "\n",
    "def get_unique_features_df(df):\n",
    "    return df.select(unique_grouped_features).unique()\n",
    "\n",
    "def save_file(df, name):\n",
    "    df.write_csv(name)\n",
    "    print(f\"Saved as: {name}\")\n",
    "    \n",
    "def main(path):\n",
    "    start_time = time.time()\n",
    "    df = load_csv_file(path)\n",
    "    get_file_info(path)\n",
    "    df = add_constraints(df)\n",
    "    unique_year_months = get_unique_features_df(df)\n",
    "    \n",
    "    try:        \n",
    "        for year, month in zip(unique_year_months[\"year\"], unique_year_months[\"month\"]):\n",
    "            filtered_df = df.filter(\n",
    "                (pl.col(\"year\") == year) & \n",
    "                (pl.col(\"month\") == month)\n",
    "            )\n",
    "\n",
    "            file_name = f\"{output_prefix}_{year}_{month}.csv\"\n",
    "            save_file(filtered_df, file_name)\n",
    "    except:\n",
    "        print(\"Ocurrió un error al generar y guardar archivos\")\n",
    "\n",
    "    end_time = time.time()\n",
    "    execution_time = end_time - start_time\n",
    "    print(f\"Tiempo de ejecución total: {execution_time:.2f} segundos\")"
   ]
  },
  {
   "cell_type": "code",
   "execution_count": 24,
   "id": "64ee7e69",
   "metadata": {},
   "outputs": [],
   "source": [
    "main(fileName)"
   ]
  }
 ],
 "metadata": {
  "kernelspec": {
   "display_name": "Python 3 (ipykernel)",
   "language": "python",
   "name": "python3"
  },
  "language_info": {
   "codemirror_mode": {
    "name": "ipython",
    "version": 3
   },
   "file_extension": ".py",
   "mimetype": "text/x-python",
   "name": "python",
   "nbconvert_exporter": "python",
   "pygments_lexer": "ipython3",
   "version": "3.10.11"
  }
 },
 "nbformat": 4,
 "nbformat_minor": 5
}
